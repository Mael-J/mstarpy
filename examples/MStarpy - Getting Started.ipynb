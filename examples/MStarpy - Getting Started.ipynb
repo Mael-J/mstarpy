{
 "cells": [
  {
   "cell_type": "markdown",
   "id": "29df3f69",
   "metadata": {},
   "source": [
    "# Installation\n",
    "\n",
    "You can install it **via pip** on the terminal by typing:\n",
    "\n",
    "``` bash\n",
    "pip install mstarpy\n",
    "```\n",
    "\n",
    "You can also install it **via git** on the terminal bu using :\n",
    "\n",
    "``` bash\n",
    "pip install git+https://github.com/Mael-J/mstarpy.git@master\n",
    "```"
   ]
  },
  {
   "cell_type": "markdown",
   "id": "eab5efe3",
   "metadata": {},
   "source": [
    "# Examples\n",
    "\n",
    "## Fund Analysis\n",
    "\n",
    "Import the package MStarpy as follow :"
   ]
  },
  {
   "cell_type": "code",
   "execution_count": 2,
   "id": "3c1bec3c",
   "metadata": {},
   "outputs": [],
   "source": [
    "import mstarpy as ms"
   ]
  },
  {
   "cell_type": "markdown",
   "id": "26543d97",
   "metadata": {},
   "source": [
    "Initialize funds to start you analysis"
   ]
  },
  {
   "cell_type": "code",
   "execution_count": 11,
   "id": "1fbb3c0c",
   "metadata": {},
   "outputs": [],
   "source": [
    "funds = ms.Funds(\"VTSAX\")"
   ]
  },
  {
   "cell_type": "markdown",
   "id": "146ff5f3",
   "metadata": {},
   "source": [
    "Find the fund name"
   ]
  },
  {
   "cell_type": "code",
   "execution_count": 13,
   "id": "9ab35188",
   "metadata": {},
   "outputs": [
    {
     "data": {
      "text/plain": [
       "'Vanguard Total Stock Mkt Idx Adm'"
      ]
     },
     "execution_count": 13,
     "metadata": {},
     "output_type": "execute_result"
    }
   ],
   "source": [
    "funds.name"
   ]
  },
  {
   "cell_type": "markdown",
   "id": "481d3ea1",
   "metadata": {},
   "source": [
    "Find the fund isin"
   ]
  },
  {
   "cell_type": "code",
   "execution_count": 14,
   "id": "c0271224",
   "metadata": {},
   "outputs": [
    {
     "data": {
      "text/plain": [
       "'US9229087286'"
      ]
     },
     "execution_count": 14,
     "metadata": {},
     "output_type": "execute_result"
    }
   ],
   "source": [
    "funds.isin"
   ]
  },
  {
   "cell_type": "markdown",
   "id": "7e0f25f8",
   "metadata": {},
   "source": [
    "Asset allocation split of the fund, index and category"
   ]
  },
  {
   "cell_type": "code",
   "execution_count": 15,
   "id": "8a1c05ed",
   "metadata": {},
   "outputs": [
    {
     "data": {
      "text/plain": [
       "{'assetType': 'EQUITY',\n",
       " 'portfolioDate': '2025-05-31T05:00:00.000',\n",
       " 'portfolioDateCategory': '2025-05-31T05:00:00.000',\n",
       " 'portfolioDateIndex': None,\n",
       " 'portfolioDateGlobal': '2025-05-31T05:00:00.000',\n",
       " 'portfolioDateCategoryGlobal': '2025-05-31T05:00:00.000',\n",
       " 'portfolioDateIndexGlobal': None,\n",
       " 'fundName': 'Vanguard Total Stock Mkt Idx Adm',\n",
       " 'categoryName': 'Large Blend',\n",
       " 'indexName': None,\n",
       " 'allocationMap': {'AssetAllocCash': {'netAllocation': '0.42386',\n",
       "   'shortAllocation': '0.00139',\n",
       "   'longAllocation': '0.42525',\n",
       "   'longAllocationIndex': None,\n",
       "   'longAllocationCategory': '1.91283',\n",
       "   'targetAllocation': None},\n",
       "  'AssetAllocNotClassified': {'netAllocation': '0.0',\n",
       "   'shortAllocation': '0.0',\n",
       "   'longAllocation': '0.0',\n",
       "   'longAllocationIndex': None,\n",
       "   'longAllocationCategory': '0.02239',\n",
       "   'targetAllocation': None},\n",
       "  'AssetAllocNonUSEquity': {'netAllocation': '0.54227',\n",
       "   'shortAllocation': '0.00000',\n",
       "   'longAllocation': '0.54227',\n",
       "   'longAllocationIndex': None,\n",
       "   'longAllocationCategory': '2.14526',\n",
       "   'targetAllocation': None},\n",
       "  'AssetAllocOther': {'netAllocation': '0.00000',\n",
       "   'shortAllocation': '0.00000',\n",
       "   'longAllocation': '0.00000',\n",
       "   'longAllocationIndex': None,\n",
       "   'longAllocationCategory': '1.23656',\n",
       "   'targetAllocation': None},\n",
       "  'AssetAllocUSEquity': {'netAllocation': '99.03387',\n",
       "   'shortAllocation': '0.00000',\n",
       "   'longAllocation': '99.03387',\n",
       "   'longAllocationIndex': None,\n",
       "   'longAllocationCategory': '96.23221',\n",
       "   'targetAllocation': None},\n",
       "  'AssetAllocBond': {'netAllocation': '0.00000',\n",
       "   'shortAllocation': '0.00000',\n",
       "   'longAllocation': '0.00000',\n",
       "   'longAllocationIndex': None,\n",
       "   'longAllocationCategory': '0.64179',\n",
       "   'targetAllocation': None}},\n",
       " 'japanAssetAllocation': None,\n",
       " 'countryCode': 'USA',\n",
       " 'securityType': None,\n",
       " 'dualViewData': None,\n",
       " 'targetDate': None,\n",
       " 'hasRegionalAssetAlloc': True,\n",
       " 'globalAllocationMap': {'assetAllocPreferred': {'netAllocation': '0.00000',\n",
       "   'shortAllocation': '0.00000',\n",
       "   'longAllocation': '0.00000',\n",
       "   'longAllocationIndex': None,\n",
       "   'longAllocationCategory': '0.02237',\n",
       "   'targetAllocation': None},\n",
       "  'assetAllocOther': {'netAllocation': '0.00000',\n",
       "   'shortAllocation': '0.00000',\n",
       "   'longAllocation': '0.00000',\n",
       "   'longAllocationIndex': None,\n",
       "   'longAllocationCategory': '1.23656',\n",
       "   'targetAllocation': None},\n",
       "  'assetAllocEquity': {'netAllocation': '99.57614',\n",
       "   'shortAllocation': '0.00000',\n",
       "   'longAllocation': '99.57614',\n",
       "   'longAllocationIndex': None,\n",
       "   'longAllocationCategory': '98.37747',\n",
       "   'targetAllocation': None},\n",
       "  'assetAllocCash': {'netAllocation': '0.42386',\n",
       "   'shortAllocation': '0.00139',\n",
       "   'longAllocation': '0.42525',\n",
       "   'longAllocationIndex': None,\n",
       "   'longAllocationCategory': '1.91283',\n",
       "   'targetAllocation': None},\n",
       "  'assetAllocConvertible': {'netAllocation': '0.00000',\n",
       "   'shortAllocation': '0.00000',\n",
       "   'longAllocation': '0.00000',\n",
       "   'longAllocationIndex': None,\n",
       "   'longAllocationCategory': '0.00002',\n",
       "   'targetAllocation': None},\n",
       "  'assetAllocFixedIncome': {'netAllocation': '0.00000',\n",
       "   'shortAllocation': '0.00000',\n",
       "   'longAllocation': '0.00000',\n",
       "   'longAllocationIndex': None,\n",
       "   'longAllocationCategory': '0.64179',\n",
       "   'targetAllocation': None}}}"
      ]
     },
     "execution_count": 15,
     "metadata": {},
     "output_type": "execute_result"
    }
   ],
   "source": [
    "funds.allocationMap()"
   ]
  },
  {
   "cell_type": "markdown",
   "id": "5db021bd",
   "metadata": {},
   "source": [
    "Fund allocation by Market Capitalization and Style"
   ]
  },
  {
   "cell_type": "code",
   "execution_count": 16,
   "id": "4e877592",
   "metadata": {},
   "outputs": [
    {
     "data": {
      "text/plain": [
       "{'portfolioDate': '2025-05-31T05:00:00.000',\n",
       " 'masterPortfolioId': '3506',\n",
       " 'largeValue': '20.19900',\n",
       " 'largeBlend': '34.96900',\n",
       " 'largeGrowth': '16.77800',\n",
       " 'middleValue': '5.65400',\n",
       " 'middleBlend': '8.71200',\n",
       " 'middleGrowth': '5.20500',\n",
       " 'smallValue': '2.91600',\n",
       " 'smallBlend': '3.33700',\n",
       " 'smallGrowth': '2.22800'}"
      ]
     },
     "execution_count": 16,
     "metadata": {},
     "output_type": "execute_result"
    }
   ],
   "source": [
    "funds.allocationWeighting()"
   ]
  },
  {
   "cell_type": "markdown",
   "id": "5b65a061",
   "metadata": {},
   "source": [
    "Ratings of the asset manager funds"
   ]
  },
  {
   "cell_type": "code",
   "execution_count": 17,
   "id": "6c6fe38a",
   "metadata": {},
   "outputs": [
    {
     "data": {
      "text/plain": [
       "[{'rating': '7',\n",
       "  'medalistRating': None,\n",
       "  'medalistRatingLabel': None,\n",
       "  'shareClassCount': 0,\n",
       "  'percent': 0.7401450684,\n",
       "  'noPremiumChinaFund': False},\n",
       " {'rating': '6',\n",
       "  'medalistRating': None,\n",
       "  'medalistRatingLabel': None,\n",
       "  'shareClassCount': 0,\n",
       "  'percent': 0.1304081257,\n",
       "  'noPremiumChinaFund': False},\n",
       " {'rating': '5',\n",
       "  'medalistRating': None,\n",
       "  'medalistRatingLabel': None,\n",
       "  'shareClassCount': 0,\n",
       "  'percent': 0.1159243916,\n",
       "  'noPremiumChinaFund': False},\n",
       " {'rating': '4',\n",
       "  'medalistRating': None,\n",
       "  'medalistRatingLabel': None,\n",
       "  'shareClassCount': 0,\n",
       "  'percent': 0.003549903,\n",
       "  'noPremiumChinaFund': False},\n",
       " {'rating': '3',\n",
       "  'medalistRating': None,\n",
       "  'medalistRatingLabel': None,\n",
       "  'shareClassCount': 0,\n",
       "  'percent': 0.0,\n",
       "  'noPremiumChinaFund': False},\n",
       " {'rating': '2',\n",
       "  'medalistRating': None,\n",
       "  'medalistRatingLabel': None,\n",
       "  'shareClassCount': 0,\n",
       "  'percent': 0.0020085393,\n",
       "  'noPremiumChinaFund': False},\n",
       " {'rating': '1',\n",
       "  'medalistRating': None,\n",
       "  'medalistRatingLabel': None,\n",
       "  'shareClassCount': 0,\n",
       "  'percent': 0.0,\n",
       "  'noPremiumChinaFund': False},\n",
       " {'rating': '0',\n",
       "  'medalistRating': None,\n",
       "  'medalistRatingLabel': None,\n",
       "  'shareClassCount': 0,\n",
       "  'percent': 0.0079639719,\n",
       "  'noPremiumChinaFund': False}]"
      ]
     },
     "execution_count": 17,
     "metadata": {},
     "output_type": "execute_result"
    }
   ],
   "source": [
    "funds.analystRating()"
   ]
  },
  {
   "cell_type": "markdown",
   "id": "4353d1f3",
   "metadata": {},
   "source": [
    "Rating and Performance of the best funds of the asset manager"
   ]
  },
  {
   "cell_type": "code",
   "execution_count": 18,
   "id": "63959f56",
   "metadata": {},
   "outputs": [
    {
     "data": {
      "text/plain": [
       "{'userType': 'Free',\n",
       " 'analystRatingFundList': [{'rating': '7',\n",
       "   'medalistRating': None,\n",
       "   'medalistRatingLabel': None,\n",
       "   'calendarYearFlow': 6519904241.0,\n",
       "   'netAsset': 748576557090.0,\n",
       "   'epUsedFor3YearReturn': '0',\n",
       "   'trailing3YearReturn': 19.04603,\n",
       "   'trailing3YearReturnRank': 39.0,\n",
       "   'fundShareClassId': 'F00000VE7X',\n",
       "   'name': '_PO_',\n",
       "   'returnEndDate': '2025-06-30T05:00:00.000',\n",
       "   'fundId': 'FSUSA002PT',\n",
       "   'secId': 'F00000VE7X',\n",
       "   'securityType': 'FO'},\n",
       "  {'rating': '7',\n",
       "   'medalistRating': None,\n",
       "   'medalistRatingLabel': None,\n",
       "   'calendarYearFlow': -14581201810.0,\n",
       "   'netAsset': 560499081757.0,\n",
       "   'epUsedFor3YearReturn': '0',\n",
       "   'trailing3YearReturn': 19.65995,\n",
       "   'trailing3YearReturnRank': 23.0,\n",
       "   'fundShareClassId': 'FOUSA00L8W',\n",
       "   'name': '_PO_',\n",
       "   'returnEndDate': '2025-06-30T05:00:00.000',\n",
       "   'fundId': 'FSUSA002QH',\n",
       "   'secId': 'FOUSA00L8W',\n",
       "   'securityType': 'FO'},\n",
       "  {'rating': '7',\n",
       "   'medalistRating': None,\n",
       "   'medalistRatingLabel': None,\n",
       "   'calendarYearFlow': 3606828175.0,\n",
       "   'netAsset': 226678602486.0,\n",
       "   'epUsedFor3YearReturn': '0',\n",
       "   'trailing3YearReturn': 13.73202,\n",
       "   'trailing3YearReturnRank': 77.0,\n",
       "   'fundShareClassId': 'FOUSA00KIR',\n",
       "   'name': '_PO_',\n",
       "   'returnEndDate': '2025-06-30T05:00:00.000',\n",
       "   'fundId': 'FSUSA004JJ',\n",
       "   'secId': 'FOUSA00KIR',\n",
       "   'securityType': 'FO'},\n",
       "  {'rating': '7',\n",
       "   'medalistRating': None,\n",
       "   'medalistRatingLabel': None,\n",
       "   'calendarYearFlow': -3048005370.0,\n",
       "   'netAsset': 188469282168.0,\n",
       "   'epUsedFor3YearReturn': '0',\n",
       "   'trailing3YearReturn': 19.68529,\n",
       "   'trailing3YearReturnRank': 22.0,\n",
       "   'fundShareClassId': 'FOUSA00GPG',\n",
       "   'name': '_PO_',\n",
       "   'returnEndDate': '2025-06-30T05:00:00.000',\n",
       "   'fundId': 'FSUSA002Q0',\n",
       "   'secId': 'FOUSA00GPG',\n",
       "   'securityType': 'FO'},\n",
       "  {'rating': '7',\n",
       "   'medalistRating': None,\n",
       "   'medalistRatingLabel': None,\n",
       "   'calendarYearFlow': 5347104999.0,\n",
       "   'netAsset': 161275934222.0,\n",
       "   'epUsedFor3YearReturn': '0',\n",
       "   'trailing3YearReturn': 2.6004,\n",
       "   'trailing3YearReturnRank': 52.0,\n",
       "   'fundShareClassId': 'FOUSA08OZU',\n",
       "   'name': '_PO_',\n",
       "   'returnEndDate': '2025-06-30T05:00:00.000',\n",
       "   'fundId': 'FSUSA09PA2',\n",
       "   'secId': 'FOUSA08OZU',\n",
       "   'securityType': 'FO'}],\n",
       " 'footerFundFlowDate': '2025-05-31T05:00:00.000',\n",
       " 'footerReturnDate': '2025-06-30T05:00:00.000',\n",
       " 'currency': 'USD',\n",
       " 'noPremiumChinaFund': False}"
      ]
     },
     "execution_count": 18,
     "metadata": {},
     "output_type": "execute_result"
    }
   ],
   "source": [
    "funds.analystRatingTopFunds()"
   ]
  },
  {
   "cell_type": "markdown",
   "id": "13abfb0a",
   "metadata": {},
   "source": [
    "Recent change in ratings for asset manager funds"
   ]
  },
  {
   "cell_type": "code",
   "execution_count": 19,
   "id": "4478b8e0",
   "metadata": {},
   "outputs": [
    {
     "data": {
      "text/plain": [
       "{'topAnalystRatingUpDownList': [],\n",
       " 'userType': 'Free',\n",
       " 'currency': 'USD',\n",
       " 'securityType': 'FO',\n",
       " 'name': 'Vanguard Total Stock Mkt Idx Adm',\n",
       " 'secId': 'FOUSA00L83',\n",
       " 'noPremiumChinaFund': False}"
      ]
     },
     "execution_count": 19,
     "metadata": {},
     "output_type": "execute_result"
    }
   ],
   "source": [
    "funds.analystRatingTopFundsUpDown()"
   ]
  },
  {
   "cell_type": "markdown",
   "id": "de474775",
   "metadata": {},
   "source": [
    "Carbon metrics"
   ]
  },
  {
   "cell_type": "code",
   "execution_count": 20,
   "id": "128b1333",
   "metadata": {},
   "outputs": [
    {
     "data": {
      "text/plain": [
       "{'carbonPortfolioCoveragePct': None,\n",
       " 'carbonRiskScore': None,\n",
       " 'carbonRiskScoreCategoryAverage': '7.20505',\n",
       " 'carbonRiskScoreCategoryHigh': '26.58966',\n",
       " 'carbonRiskScoreCategoryLow': '1.44055',\n",
       " 'carbonRiskScoreCategoryAverageDate': '2022-12-31T06:00:00.000',\n",
       " 'carbonRiskScoreCategoryRankPct': None,\n",
       " 'carbonRiskScoreDate': '2025-04-30T05:00:00.000',\n",
       " 'categoryDate': '2022-12-31T06:00:00.000',\n",
       " 'categoryName': 'Large Blend',\n",
       " 'fossilFuelInvolvementPctCategoryAverage': '8.53474',\n",
       " 'fossilFuelInvolvementPct': '8.43193',\n",
       " 'fossilFuelInvolvementPctCategoryHigh': '84.26070',\n",
       " 'fossilFuelInvolvementPctCategoryLow': '0.00000',\n",
       " 'isLowCarbon': None,\n",
       " 'fossilFuelPercentageOfPortfolioCovered': '96.98000',\n",
       " 'portfolioCarbonRiskScore': '7.21964',\n",
       " 'carbonRiskPercentageOfPortfolioCovered': '98.12749',\n",
       " 'isDesignatedLowCarbon': 'false'}"
      ]
     },
     "execution_count": 20,
     "metadata": {},
     "output_type": "execute_result"
    }
   ],
   "source": [
    "funds.carbonMetrics()"
   ]
  },
  {
   "cell_type": "markdown",
   "id": "a0301f0c",
   "metadata": {},
   "source": [
    "Performance and Cost over years"
   ]
  },
  {
   "cell_type": "code",
   "execution_count": 21,
   "id": "65e55149",
   "metadata": {},
   "outputs": [
    {
     "data": {
      "text/plain": [
       "{'prospectusDate': '2025-04-29T05:00:00.000',\n",
       " 'expectedReturn': 5.0,\n",
       " 'initial': 10000.0,\n",
       " 'mer': None,\n",
       " 'priceTemplate': 'USA_OE',\n",
       " 'baseCurrencyId': 'USD',\n",
       " 'costItems': [{'year': 1,\n",
       "   'endNetAsset': 10499.90772386964,\n",
       "   'purchase': 0.0,\n",
       "   'ongoing': 4.0984318959,\n",
       "   'redemption': 0.0,\n",
       "   'total': 4.0984318959,\n",
       "   'purchasePer': 0.0,\n",
       "   'ongoingPer': 0.0003903303,\n",
       "   'redemptionPer': 0.0,\n",
       "   'totalPer': 0.0003903303},\n",
       "  {'year': 5,\n",
       "   'endNetAsset': 12759.994261123229,\n",
       "   'purchase': 0.0,\n",
       "   'ongoing': 22.6274729756,\n",
       "   'redemption': 0.0,\n",
       "   'total': 22.6274729756,\n",
       "   'purchasePer': 0.0,\n",
       "   'ongoingPer': 0.0017733137,\n",
       "   'redemptionPer': 0.0,\n",
       "   'totalPer': 0.0017733137},\n",
       "  {'year': 10,\n",
       "   'endNetAsset': 16275.500184834224,\n",
       "   'purchase': 0.0,\n",
       "   'ongoing': 51.4489152536,\n",
       "   'redemption': 0.0,\n",
       "   'total': 51.4489152536,\n",
       "   'purchasePer': 0.0,\n",
       "   'ongoingPer': 0.0031611265,\n",
       "   'redemptionPer': 0.0,\n",
       "   'totalPer': 0.0031611265}]}"
      ]
     },
     "execution_count": 21,
     "metadata": {},
     "output_type": "execute_result"
    }
   ],
   "source": [
    "funds.costIllustration()"
   ]
  },
  {
   "cell_type": "markdown",
   "id": "99144156",
   "metadata": {},
   "source": [
    "Performance including and excluding fees"
   ]
  },
  {
   "cell_type": "code",
   "execution_count": 22,
   "id": "9c5d1862",
   "metadata": {},
   "outputs": [
    {
     "data": {
      "text/plain": [
       "{'initialInvestment': 10000.0,\n",
       " 'yearsToCalculate': 5,\n",
       " 'growthRatePercent': 5.0,\n",
       " 'returnExcludingFeeAmount': 12762.81563,\n",
       " 'returnIncludingFeeAmount': 12762.81563,\n",
       " 'returnFeeReductionAmount': 0.0,\n",
       " 'reducedRateOfReturn': 5.0,\n",
       " 'currency': 'USD'}"
      ]
     },
     "execution_count": 22,
     "metadata": {},
     "output_type": "execute_result"
    }
   ],
   "source": [
    "funds.costProjection()"
   ]
  },
  {
   "cell_type": "markdown",
   "id": "ae640c7e",
   "metadata": {},
   "source": [
    "Coupon distributed by the fund, category and benchmark"
   ]
  },
  {
   "cell_type": "code",
   "execution_count": 24,
   "id": "25a922ee",
   "metadata": {},
   "outputs": [
    {
     "data": {
      "text/plain": [
       "{'fundCouponRange': {'portfolioDate': '2025-05-31T05:00:00.000',\n",
       "  'name': 'Vanguard U.S. Invm Grd Crdt Idx € Acc',\n",
       "  'coupon0': 0.01156,\n",
       "  'coupon0To2': 6.0432,\n",
       "  'coupon2To4': 32.55152,\n",
       "  'coupon4To6': 51.9642,\n",
       "  'coupon6To8': 8.79956,\n",
       "  'coupon8To10': 0.5929,\n",
       "  'couponMoreThan10': 0.0},\n",
       " 'categoryCouponRange': {'portfolioDate': '2025-05-31T05:00:00.000',\n",
       "  'name': 'USD Corporate Bond',\n",
       "  'coupon0': 0.08639,\n",
       "  'coupon0To2': 1.03536,\n",
       "  'coupon2To4': 22.40715,\n",
       "  'coupon4To6': 39.71836,\n",
       "  'coupon6To8': 32.31885,\n",
       "  'coupon8To10': 0.71647,\n",
       "  'couponMoreThan10': 0.16855},\n",
       " 'benchmarkCouponRange': None,\n",
       " 'morningstarIndexCouponRange': {'portfolioDate': '2025-06-30T05:00:00.000',\n",
       "  'name': 'Morningstar US Corp Bd TR USD',\n",
       "  'coupon0': 0.0,\n",
       "  'coupon0To2': 5.06109,\n",
       "  'coupon2To4': 31.74389,\n",
       "  'coupon4To6': 54.30446,\n",
       "  'coupon6To8': 8.42628,\n",
       "  'coupon8To10': 0.4647,\n",
       "  'couponMoreThan10': 0.0}}"
      ]
     },
     "execution_count": 24,
     "metadata": {},
     "output_type": "execute_result"
    }
   ],
   "source": [
    "ms.Funds(\"IE00B04GQT48\").couponRange()"
   ]
  },
  {
   "cell_type": "markdown",
   "id": "d422cfd4",
   "metadata": {},
   "source": [
    "Credit rating split of the fund, catory and benchmark"
   ]
  },
  {
   "cell_type": "code",
   "execution_count": 25,
   "id": "3b4e90bf",
   "metadata": {},
   "outputs": [
    {
     "data": {
      "text/plain": [
       "{'fundName': 'Vanguard U.S. Invm Grd Crdt Idx € Acc',\n",
       " 'categoryName': 'USD Corporate Bond',\n",
       " 'indexName': 'Morningstar US Corp Bd TR USD',\n",
       " 'fund': {'creditQualityDate': '2025-05-31T05:00:00.000',\n",
       "  'creditQualityAAA': '7.40938',\n",
       "  'creditQualityAA': '13.03747',\n",
       "  'creditQualityA': '39.18980',\n",
       "  'creditQualityBBB': '40.39676',\n",
       "  'creditQualityBB': '0.00000',\n",
       "  'creditQualityB': '0.00000',\n",
       "  'creditQualityBelowB': '0.00000',\n",
       "  'creditQualityNotRated': '-0.03342'},\n",
       " 'category': {'creditQualityDate': '2025-03-31T05:00:00.000',\n",
       "  'creditQualityAAA': '3.77618',\n",
       "  'creditQualityAA': '7.93663',\n",
       "  'creditQualityA': '37.52678',\n",
       "  'creditQualityBBB': '48.26236',\n",
       "  'creditQualityBB': '2.04539',\n",
       "  'creditQualityB': '0.22998',\n",
       "  'creditQualityBelowB': '0.01957',\n",
       "  'creditQualityNotRated': '0.20309'},\n",
       " 'index': {'creditQualityDate': None,\n",
       "  'creditQualityAAA': None,\n",
       "  'creditQualityAA': None,\n",
       "  'creditQualityA': None,\n",
       "  'creditQualityBBB': None,\n",
       "  'creditQualityBB': None,\n",
       "  'creditQualityB': None,\n",
       "  'creditQualityBelowB': None,\n",
       "  'creditQualityNotRated': None}}"
      ]
     },
     "execution_count": 25,
     "metadata": {},
     "output_type": "execute_result"
    }
   ],
   "source": [
    "ms.Funds(\"IE00B04GQT48\").creditQuality()"
   ]
  },
  {
   "cell_type": "markdown",
   "id": "aa4125fc",
   "metadata": {},
   "source": []
  },
  {
   "cell_type": "code",
   "execution_count": 35,
   "id": "8e496c77",
   "metadata": {},
   "outputs": [
    {
     "ename": "ValueError",
     "evalue": "The field ['isin', 'name', 'priceToEarnings', 'ri'] is not a valid field.\n            You can find the possible fields with the method search_field().\n            Possible fields are : abiSector, alpha, averageManagerTenure, baseCurrency, beta, brandingName, broadCategoryGroup, corporateSustainabilityScore, countriesOfSale, debtToEquity, dgsCode, distributionFundType, distributionYield, dividendDistributionFrequency, dividendYield, domicile, earningsGrowthPerShare, exchange, exchangeCountry, firmName, freeCashFlow, freeCashFlowYield, fundAlternativeStyleBox, fundEquityStyleBox, fundFixedIncomeStyleBox, fundServCodes, fundSize, fundSizeDate, fundStarRating, gearingRatio, hasPerformanceFee, iaSector, identifier, inceptionDate, industry, investmentType, isin, isIndexFund, isJapaneseDefinedContribution, isJapanesePublicFund, isJapaneseSMA, isPrimaryShareClassInMarket, itaCode, japanAfterTaxTotalExpenseRatio, managementExpenseRatio, marketCap, maximumEntryCost, maximumExitCost, maximumManagementFee, medalistRating, minimumInitialInvestment, morningstarCategory, morningstarRiskRating, name, netChange, netMargin, nisaType, ongoingCharge, ongoingChargeDate, percentNetChange, premiumDiscount, previousClosePrice, priceChart, priceEarningsToGrowth, priceToBook, priceToEarnings, priceToSales, priipsKidCosts, priipsKidCostsDate, primaryBenchmark, replicationMethod, returnOnAssets, returnOnEquity, returnRankCategory, revenueGrowth, rSquared, sector, sharpeRatio, standardDeviation, stockStyleBox, summaryRiskIndicator, sustainabilityRating, syntheticRiskRewardIndicator, ticker, totalNetAssetsForShareClass, totalNetAssetsForShareClassDate, totalReturn",
     "output_type": "error",
     "traceback": [
      "\u001b[31m---------------------------------------------------------------------------\u001b[39m",
      "\u001b[31mValueError\u001b[39m                                Traceback (most recent call last)",
      "\u001b[36mCell\u001b[39m\u001b[36m \u001b[39m\u001b[32mIn[35]\u001b[39m\u001b[32m, line 1\u001b[39m\n\u001b[32m----> \u001b[39m\u001b[32m1\u001b[39m \u001b[43mfunds\u001b[49m\u001b[43m.\u001b[49m\u001b[43mdataPoint\u001b[49m\u001b[43m(\u001b[49m\u001b[43m[\u001b[49m\u001b[33;43m\"\u001b[39;49m\u001b[33;43misin\u001b[39;49m\u001b[33;43m\"\u001b[39;49m\u001b[43m,\u001b[49m\u001b[43m \u001b[49m\u001b[33;43m\"\u001b[39;49m\u001b[33;43mname\u001b[39;49m\u001b[33;43m\"\u001b[39;49m\u001b[43m,\u001b[49m\u001b[43m \u001b[49m\u001b[33;43m\"\u001b[39;49m\u001b[33;43mpriceToEarnings\u001b[39;49m\u001b[33;43m\"\u001b[39;49m\u001b[43m,\u001b[49m\u001b[43m \u001b[49m\u001b[33;43m\"\u001b[39;49m\u001b[33;43mri\u001b[39;49m\u001b[33;43m\"\u001b[39;49m\u001b[43m]\u001b[49m\u001b[43m)\u001b[49m\n",
      "\u001b[36mFile \u001b[39m\u001b[32mc:\\python\\Lib\\site-packages\\mstarpy\\funds.py:225\u001b[39m, in \u001b[36mFunds.dataPoint\u001b[39m\u001b[34m(self, field, currency)\u001b[39m\n\u001b[32m    206\u001b[39m \u001b[38;5;28;01mdef\u001b[39;00m\u001b[38;5;250m \u001b[39m\u001b[34mdataPoint\u001b[39m(\u001b[38;5;28mself\u001b[39m, \n\u001b[32m    207\u001b[39m               field:\u001b[38;5;28mstr\u001b[39m|\u001b[38;5;28mlist\u001b[39m, \n\u001b[32m    208\u001b[39m               currency:\u001b[38;5;28mstr\u001b[39m=\u001b[33m\"\u001b[39m\u001b[33mEUR\u001b[39m\u001b[33m\"\u001b[39m) -> \u001b[38;5;28mlist\u001b[39m[\u001b[38;5;28mdict\u001b[39m]:\n\u001b[32m    209\u001b[39m \u001b[38;5;250m    \u001b[39m\u001b[33;03m\"\"\"\u001b[39;00m\n\u001b[32m    210\u001b[39m \u001b[33;03m    This function retrieves infos about funds such as name,\u001b[39;00m\n\u001b[32m    211\u001b[39m \u001b[33;03m    performance, risk metrics...\u001b[39;00m\n\u001b[32m   (...)\u001b[39m\u001b[32m    223\u001b[39m \n\u001b[32m    224\u001b[39m \u001b[33;03m    \"\"\"\u001b[39;00m\n\u001b[32m--> \u001b[39m\u001b[32m225\u001b[39m     \u001b[38;5;28;01mreturn\u001b[39;00m \u001b[43mscreener_universe\u001b[49m\u001b[43m(\u001b[49m\n\u001b[32m    226\u001b[39m \u001b[43m        \u001b[49m\u001b[38;5;28;43mself\u001b[39;49m\u001b[43m.\u001b[49m\u001b[43mcode\u001b[49m\u001b[43m,\u001b[49m\u001b[43m \u001b[49m\u001b[43mfield\u001b[49m\u001b[43m,\u001b[49m\u001b[43m \u001b[49m\u001b[43mproxies\u001b[49m\u001b[43m=\u001b[49m\u001b[38;5;28;43mself\u001b[39;49m\u001b[43m.\u001b[49m\u001b[43mproxies\u001b[49m\n\u001b[32m    227\u001b[39m \u001b[43m    \u001b[49m\u001b[43m)\u001b[49m\n",
      "\u001b[36mFile \u001b[39m\u001b[32mc:\\python\\Lib\\site-packages\\mstarpy\\search.py:139\u001b[39m, in \u001b[36mscreener_universe\u001b[39m\u001b[34m(term, field, filters, pageSize, page, sortby, ascending, proxies)\u001b[39m\n\u001b[32m    132\u001b[39m     \u001b[38;5;28;01mraise\u001b[39;00m \u001b[38;5;167;01mValueError\u001b[39;00m(\n\u001b[32m    133\u001b[39m         \u001b[33mf\u001b[39m\u001b[33m\"\"\"\u001b[39m\u001b[33mThe sort field \u001b[39m\u001b[38;5;132;01m{\u001b[39;00msortby\u001b[38;5;132;01m}\u001b[39;00m\u001b[33m is not a valid field.\u001b[39m\n\u001b[32m    134\u001b[39m \u001b[33m        You can find the possible fields with the method search_field().\u001b[39m\n\u001b[32m    135\u001b[39m \u001b[33m        Possible fields are : \u001b[39m\u001b[38;5;132;01m{\u001b[39;00m\u001b[33m'\u001b[39m\u001b[33m, \u001b[39m\u001b[33m'\u001b[39m.join(all_fields)\u001b[38;5;132;01m}\u001b[39;00m\u001b[33m\"\"\"\u001b[39m\n\u001b[32m    136\u001b[39m     )\n\u001b[32m    138\u001b[39m \u001b[38;5;28;01mif\u001b[39;00m \u001b[38;5;129;01mnot\u001b[39;00m check_field:\n\u001b[32m--> \u001b[39m\u001b[32m139\u001b[39m     \u001b[38;5;28;01mraise\u001b[39;00m \u001b[38;5;167;01mValueError\u001b[39;00m(\n\u001b[32m    140\u001b[39m         \u001b[33mf\u001b[39m\u001b[33m\"\"\"\u001b[39m\u001b[33mThe field \u001b[39m\u001b[38;5;132;01m{\u001b[39;00mfield\u001b[38;5;132;01m}\u001b[39;00m\u001b[33m is not a valid field.\u001b[39m\n\u001b[32m    141\u001b[39m \u001b[33m        You can find the possible fields with the method search_field().\u001b[39m\n\u001b[32m    142\u001b[39m \u001b[33m        Possible fields are : \u001b[39m\u001b[38;5;132;01m{\u001b[39;00m\u001b[33m'\u001b[39m\u001b[33m, \u001b[39m\u001b[33m'\u001b[39m.join(all_fields)\u001b[38;5;132;01m}\u001b[39;00m\u001b[33m\"\"\"\u001b[39m\n\u001b[32m    143\u001b[39m     )\n\u001b[32m    145\u001b[39m query_params = \u001b[33mf\u001b[39m\u001b[33m\"\u001b[39m\u001b[33m_ ~= \u001b[39m\u001b[33m'\u001b[39m\u001b[38;5;132;01m{\u001b[39;00mterm\u001b[38;5;132;01m}\u001b[39;00m\u001b[33m'\u001b[39m\u001b[33m\"\u001b[39m\n\u001b[32m    147\u001b[39m \u001b[38;5;28;01mif\u001b[39;00m filters:\n",
      "\u001b[31mValueError\u001b[39m: The field ['isin', 'name', 'priceToEarnings', 'ri'] is not a valid field.\n            You can find the possible fields with the method search_field().\n            Possible fields are : abiSector, alpha, averageManagerTenure, baseCurrency, beta, brandingName, broadCategoryGroup, corporateSustainabilityScore, countriesOfSale, debtToEquity, dgsCode, distributionFundType, distributionYield, dividendDistributionFrequency, dividendYield, domicile, earningsGrowthPerShare, exchange, exchangeCountry, firmName, freeCashFlow, freeCashFlowYield, fundAlternativeStyleBox, fundEquityStyleBox, fundFixedIncomeStyleBox, fundServCodes, fundSize, fundSizeDate, fundStarRating, gearingRatio, hasPerformanceFee, iaSector, identifier, inceptionDate, industry, investmentType, isin, isIndexFund, isJapaneseDefinedContribution, isJapanesePublicFund, isJapaneseSMA, isPrimaryShareClassInMarket, itaCode, japanAfterTaxTotalExpenseRatio, managementExpenseRatio, marketCap, maximumEntryCost, maximumExitCost, maximumManagementFee, medalistRating, minimumInitialInvestment, morningstarCategory, morningstarRiskRating, name, netChange, netMargin, nisaType, ongoingCharge, ongoingChargeDate, percentNetChange, premiumDiscount, previousClosePrice, priceChart, priceEarningsToGrowth, priceToBook, priceToEarnings, priceToSales, priipsKidCosts, priipsKidCostsDate, primaryBenchmark, replicationMethod, returnOnAssets, returnOnEquity, returnRankCategory, revenueGrowth, rSquared, sector, sharpeRatio, standardDeviation, stockStyleBox, summaryRiskIndicator, sustainabilityRating, syntheticRiskRewardIndicator, ticker, totalNetAssetsForShareClass, totalNetAssetsForShareClassDate, totalReturn"
     ]
    }
   ],
   "source": [
    "funds.dataPoint([\"isin\", \"name\", \"priceToEarnings\", \"ri\"])"
   ]
  },
  {
   "cell_type": "code",
   "execution_count": 40,
   "id": "eebfe27f",
   "metadata": {},
   "outputs": [
    {
     "data": {
      "text/plain": [
       "[{'meta': {'securityID': 'FOUSA00L83',\n",
       "   'performanceID': '0P00002YGZ',\n",
       "   'fundID': 'FSUSA002PT',\n",
       "   'masterPortfolioID': '3506',\n",
       "   'universe': 'FO',\n",
       "   'exchange': 'XNAS',\n",
       "   'ticker': 'VTSAX'},\n",
       "  'fields': {'isin': {'value': 'US9229087286'},\n",
       "   'name': {'value': 'Vanguard Total Stock Mkt Idx Adm'},\n",
       "   'alpha': {'value': -0.892}}}]"
      ]
     },
     "execution_count": 40,
     "metadata": {},
     "output_type": "execute_result"
    }
   ],
   "source": [
    "ms.screener_universe(funds.isin, [\"isin\", \"name\", \"alpha\"])"
   ]
  },
  {
   "cell_type": "code",
   "execution_count": 28,
   "id": "29c86e75",
   "metadata": {},
   "outputs": [
    {
     "data": {
      "text/plain": [
       "'FOUSA00L83'"
      ]
     },
     "execution_count": 28,
     "metadata": {},
     "output_type": "execute_result"
    }
   ],
   "source": [
    "funds.code"
   ]
  },
  {
   "cell_type": "code",
   "execution_count": null,
   "id": "96ba80eb",
   "metadata": {},
   "outputs": [],
   "source": []
  }
 ],
 "metadata": {
  "kernelspec": {
   "display_name": "Python 3",
   "language": "python",
   "name": "python3"
  },
  "language_info": {
   "codemirror_mode": {
    "name": "ipython",
    "version": 3
   },
   "file_extension": ".py",
   "mimetype": "text/x-python",
   "name": "python",
   "nbconvert_exporter": "python",
   "pygments_lexer": "ipython3",
   "version": "3.11.9"
  }
 },
 "nbformat": 4,
 "nbformat_minor": 5
}
